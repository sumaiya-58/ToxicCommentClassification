{
 "cells": [
  {
   "cell_type": "code",
   "execution_count": 1,
   "metadata": {
    "_cell_guid": "b1076dfc-b9ad-4769-8c92-a6c4dae69d19",
    "_uuid": "8f2839f25d086af736a60e9eeb907d3b93b6e0e5",
    "execution": {
     "iopub.execute_input": "2024-06-26T19:14:00.234772Z",
     "iopub.status.busy": "2024-06-26T19:14:00.234457Z",
     "iopub.status.idle": "2024-06-26T19:14:01.149863Z",
     "shell.execute_reply": "2024-06-26T19:14:01.149028Z",
     "shell.execute_reply.started": "2024-06-26T19:14:00.234746Z"
    },
    "trusted": true
   },
   "outputs": [
    {
     "name": "stdout",
     "output_type": "stream",
     "text": [
      "/kaggle/input/jigsaw-toxic-comment-classification-challenge/train.csv.zip\n",
      "/kaggle/input/jigsaw-toxic-comment-classification-challenge/sample_submission.csv.zip\n",
      "/kaggle/input/jigsaw-toxic-comment-classification-challenge/test_labels.csv.zip\n",
      "/kaggle/input/jigsaw-toxic-comment-classification-challenge/test.csv.zip\n"
     ]
    }
   ],
   "source": [
    "import numpy as np # linear algebra\n",
    "import pandas as pd # data processing, CSV file I/O (e.g. pd.read_csv)\n",
    "\n",
    "# Input data files are available in the read-only \"../input/\" directory\n",
    "# For example, running this (by clicking run or pressing Shift+Enter) will list all files under the input directory\n",
    "\n",
    "import os\n",
    "for dirname, _, filenames in os.walk('/kaggle/input'):\n",
    "    for filename in filenames:\n",
    "        print(os.path.join(dirname, filename))\n",
    "\n",
    "# You can write up to 20GB to the current directory (/kaggle/working/) that gets preserved as output when you create a version using \"Save & Run All\" \n",
    "# You can also write temporary files to /kaggle/temp/, but they won't be saved outside of the current session"
   ]
  },
  {
   "cell_type": "code",
   "execution_count": 2,
   "metadata": {
    "execution": {
     "iopub.execute_input": "2024-06-26T19:14:01.151741Z",
     "iopub.status.busy": "2024-06-26T19:14:01.151341Z",
     "iopub.status.idle": "2024-06-26T19:14:13.251402Z",
     "shell.execute_reply": "2024-06-26T19:14:13.250463Z",
     "shell.execute_reply.started": "2024-06-26T19:14:01.151715Z"
    },
    "trusted": true
   },
   "outputs": [
    {
     "name": "stderr",
     "output_type": "stream",
     "text": [
      "/opt/conda/lib/python3.10/site-packages/scipy/__init__.py:146: UserWarning: A NumPy version >=1.16.5 and <1.23.0 is required for this version of SciPy (detected version 1.24.3\n",
      "  warnings.warn(f\"A NumPy version >={np_minversion} and <{np_maxversion}\"\n"
     ]
    },
    {
     "name": "stdout",
     "output_type": "stream",
     "text": [
      "[nltk_data] Downloading package stopwords to /usr/share/nltk_data...\n",
      "[nltk_data]   Package stopwords is already up-to-date!\n"
     ]
    }
   ],
   "source": [
    "import matplotlib.pyplot as plt\n",
    "import tensorflow as tf\n",
    "from keras.preprocessing.text import Tokenizer\n",
    "from keras.utils import pad_sequences\n",
    "from sklearn.model_selection import train_test_split\n",
    "from keras.utils import to_categorical\n",
    "from keras.models import Sequential, Model\n",
    "from keras.layers import Dense,Dropout,Input,Embedding,Flatten,TextVectorization,Conv1D,GlobalMaxPooling1D,MaxPooling1D,GlobalAveragePooling1D\n",
    "from keras.initializers import Constant\n",
    "from keras.layers import Dense,LSTM,Bidirectional,Attention,Concatenate,GRU,BatchNormalization\n",
    "import nltk\n",
    "from nltk.corpus import stopwords\n",
    "import re\n",
    "nltk.download('stopwords')\n",
    "import pickle\n",
    "import pandas as pd\n",
    "import jieba"
   ]
  },
  {
   "cell_type": "code",
   "execution_count": 3,
   "metadata": {
    "execution": {
     "iopub.execute_input": "2024-06-26T19:14:13.253159Z",
     "iopub.status.busy": "2024-06-26T19:14:13.252631Z",
     "iopub.status.idle": "2024-06-26T19:14:14.191342Z",
     "shell.execute_reply": "2024-06-26T19:14:14.190129Z",
     "shell.execute_reply.started": "2024-06-26T19:14:13.253132Z"
    },
    "trusted": true
   },
   "outputs": [],
   "source": [
    "!mkdir /kaggle/working/data"
   ]
  },
  {
   "cell_type": "code",
   "execution_count": 4,
   "metadata": {
    "execution": {
     "iopub.execute_input": "2024-06-26T19:14:14.195055Z",
     "iopub.status.busy": "2024-06-26T19:14:14.194672Z",
     "iopub.status.idle": "2024-06-26T19:14:19.705706Z",
     "shell.execute_reply": "2024-06-26T19:14:19.704766Z",
     "shell.execute_reply.started": "2024-06-26T19:14:14.195020Z"
    },
    "trusted": true
   },
   "outputs": [
    {
     "name": "stdout",
     "output_type": "stream",
     "text": [
      "Archive:  /kaggle/input/jigsaw-toxic-comment-classification-challenge/train.csv.zip\n",
      "  inflating: /kaggle/working/data/train.csv  \n",
      "Archive:  /kaggle/input/jigsaw-toxic-comment-classification-challenge/sample_submission.csv.zip\n",
      "  inflating: /kaggle/working/data/sample_submission.csv  \n",
      "Archive:  /kaggle/input/jigsaw-toxic-comment-classification-challenge/test_labels.csv.zip\n",
      "  inflating: /kaggle/working/data/test_labels.csv  \n",
      "Archive:  /kaggle/input/jigsaw-toxic-comment-classification-challenge/test.csv.zip\n",
      "  inflating: /kaggle/working/data/test.csv  \n"
     ]
    }
   ],
   "source": [
    "!unzip /kaggle/input/jigsaw-toxic-comment-classification-challenge/train.csv.zip -d /kaggle/working/data\n",
    "!unzip /kaggle/input/jigsaw-toxic-comment-classification-challenge/sample_submission.csv.zip -d /kaggle/working/data\n",
    "!unzip /kaggle/input/jigsaw-toxic-comment-classification-challenge/test_labels.csv.zip -d /kaggle/working/data\n",
    "!unzip /kaggle/input/jigsaw-toxic-comment-classification-challenge/test.csv.zip -d /kaggle/working/data"
   ]
  },
  {
   "cell_type": "code",
   "execution_count": 5,
   "metadata": {
    "execution": {
     "iopub.execute_input": "2024-06-26T19:14:19.707333Z",
     "iopub.status.busy": "2024-06-26T19:14:19.707026Z",
     "iopub.status.idle": "2024-06-26T19:14:20.694545Z",
     "shell.execute_reply": "2024-06-26T19:14:20.693695Z",
     "shell.execute_reply.started": "2024-06-26T19:14:19.707302Z"
    },
    "trusted": true
   },
   "outputs": [
    {
     "data": {
      "text/html": [
       "<div>\n",
       "<style scoped>\n",
       "    .dataframe tbody tr th:only-of-type {\n",
       "        vertical-align: middle;\n",
       "    }\n",
       "\n",
       "    .dataframe tbody tr th {\n",
       "        vertical-align: top;\n",
       "    }\n",
       "\n",
       "    .dataframe thead th {\n",
       "        text-align: right;\n",
       "    }\n",
       "</style>\n",
       "<table border=\"1\" class=\"dataframe\">\n",
       "  <thead>\n",
       "    <tr style=\"text-align: right;\">\n",
       "      <th></th>\n",
       "      <th>id</th>\n",
       "      <th>comment_text</th>\n",
       "      <th>toxic</th>\n",
       "      <th>severe_toxic</th>\n",
       "      <th>obscene</th>\n",
       "      <th>threat</th>\n",
       "      <th>insult</th>\n",
       "      <th>identity_hate</th>\n",
       "    </tr>\n",
       "  </thead>\n",
       "  <tbody>\n",
       "    <tr>\n",
       "      <th>0</th>\n",
       "      <td>0000997932d777bf</td>\n",
       "      <td>Explanation\\nWhy the edits made under my usern...</td>\n",
       "      <td>0</td>\n",
       "      <td>0</td>\n",
       "      <td>0</td>\n",
       "      <td>0</td>\n",
       "      <td>0</td>\n",
       "      <td>0</td>\n",
       "    </tr>\n",
       "    <tr>\n",
       "      <th>1</th>\n",
       "      <td>000103f0d9cfb60f</td>\n",
       "      <td>D'aww! He matches this background colour I'm s...</td>\n",
       "      <td>0</td>\n",
       "      <td>0</td>\n",
       "      <td>0</td>\n",
       "      <td>0</td>\n",
       "      <td>0</td>\n",
       "      <td>0</td>\n",
       "    </tr>\n",
       "    <tr>\n",
       "      <th>2</th>\n",
       "      <td>000113f07ec002fd</td>\n",
       "      <td>Hey man, I'm really not trying to edit war. It...</td>\n",
       "      <td>0</td>\n",
       "      <td>0</td>\n",
       "      <td>0</td>\n",
       "      <td>0</td>\n",
       "      <td>0</td>\n",
       "      <td>0</td>\n",
       "    </tr>\n",
       "    <tr>\n",
       "      <th>3</th>\n",
       "      <td>0001b41b1c6bb37e</td>\n",
       "      <td>\"\\nMore\\nI can't make any real suggestions on ...</td>\n",
       "      <td>0</td>\n",
       "      <td>0</td>\n",
       "      <td>0</td>\n",
       "      <td>0</td>\n",
       "      <td>0</td>\n",
       "      <td>0</td>\n",
       "    </tr>\n",
       "    <tr>\n",
       "      <th>4</th>\n",
       "      <td>0001d958c54c6e35</td>\n",
       "      <td>You, sir, are my hero. Any chance you remember...</td>\n",
       "      <td>0</td>\n",
       "      <td>0</td>\n",
       "      <td>0</td>\n",
       "      <td>0</td>\n",
       "      <td>0</td>\n",
       "      <td>0</td>\n",
       "    </tr>\n",
       "  </tbody>\n",
       "</table>\n",
       "</div>"
      ],
      "text/plain": [
       "                 id                                       comment_text  toxic  \\\n",
       "0  0000997932d777bf  Explanation\\nWhy the edits made under my usern...      0   \n",
       "1  000103f0d9cfb60f  D'aww! He matches this background colour I'm s...      0   \n",
       "2  000113f07ec002fd  Hey man, I'm really not trying to edit war. It...      0   \n",
       "3  0001b41b1c6bb37e  \"\\nMore\\nI can't make any real suggestions on ...      0   \n",
       "4  0001d958c54c6e35  You, sir, are my hero. Any chance you remember...      0   \n",
       "\n",
       "   severe_toxic  obscene  threat  insult  identity_hate  \n",
       "0             0        0       0       0              0  \n",
       "1             0        0       0       0              0  \n",
       "2             0        0       0       0              0  \n",
       "3             0        0       0       0              0  \n",
       "4             0        0       0       0              0  "
      ]
     },
     "execution_count": 5,
     "metadata": {},
     "output_type": "execute_result"
    }
   ],
   "source": [
    "data_train = pd.read_csv('/kaggle/working/data/train.csv')\n",
    "data_train.head()"
   ]
  },
  {
   "cell_type": "code",
   "execution_count": 6,
   "metadata": {
    "execution": {
     "iopub.execute_input": "2024-06-26T19:14:20.696536Z",
     "iopub.status.busy": "2024-06-26T19:14:20.695884Z",
     "iopub.status.idle": "2024-06-26T19:14:20.724085Z",
     "shell.execute_reply": "2024-06-26T19:14:20.723328Z",
     "shell.execute_reply.started": "2024-06-26T19:14:20.696503Z"
    },
    "trusted": true
   },
   "outputs": [
    {
     "name": "stdout",
     "output_type": "stream",
     "text": [
      "toxic\n",
      "0    144277\n",
      "1     15294\n",
      "Name: count, dtype: int64\n",
      "--------------------------------------------------\n",
      "severe_toxic\n",
      "0    157976\n",
      "1      1595\n",
      "Name: count, dtype: int64\n",
      "--------------------------------------------------\n",
      "obscene\n",
      "0    151122\n",
      "1      8449\n",
      "Name: count, dtype: int64\n",
      "--------------------------------------------------\n",
      "threat\n",
      "0    159093\n",
      "1       478\n",
      "Name: count, dtype: int64\n",
      "--------------------------------------------------\n",
      "insult\n",
      "0    151694\n",
      "1      7877\n",
      "Name: count, dtype: int64\n",
      "--------------------------------------------------\n",
      "identity_hate\n",
      "0    158166\n",
      "1      1405\n",
      "Name: count, dtype: int64\n",
      "--------------------------------------------------\n"
     ]
    }
   ],
   "source": [
    "for column in data_train.columns:\n",
    "    if column != 'comment_text' and column != 'id' :\n",
    "        print(data_train[column].value_counts())\n",
    "        print('-' * 50)"
   ]
  },
  {
   "cell_type": "code",
   "execution_count": 7,
   "metadata": {
    "execution": {
     "iopub.execute_input": "2024-06-26T19:14:20.725833Z",
     "iopub.status.busy": "2024-06-26T19:14:20.725260Z",
     "iopub.status.idle": "2024-06-26T19:14:20.741121Z",
     "shell.execute_reply": "2024-06-26T19:14:20.740362Z",
     "shell.execute_reply.started": "2024-06-26T19:14:20.725802Z"
    },
    "trusted": true
   },
   "outputs": [
    {
     "data": {
      "text/plain": [
       "array([[0, 0, 0, 0, 0, 0],\n",
       "       [0, 0, 0, 0, 0, 0],\n",
       "       [0, 0, 0, 0, 0, 0],\n",
       "       ...,\n",
       "       [0, 0, 0, 0, 0, 0],\n",
       "       [0, 0, 0, 0, 0, 0],\n",
       "       [0, 0, 0, 0, 0, 0]])"
      ]
     },
     "execution_count": 7,
     "metadata": {},
     "output_type": "execute_result"
    }
   ],
   "source": [
    "list_classes = [\"toxic\", \"severe_toxic\", \"obscene\", \"threat\", \"insult\", \"identity_hate\"]\n",
    "y_train = data_train[list_classes].values\n",
    "y_train"
   ]
  },
  {
   "cell_type": "code",
   "execution_count": 8,
   "metadata": {
    "execution": {
     "iopub.execute_input": "2024-06-26T19:14:20.742537Z",
     "iopub.status.busy": "2024-06-26T19:14:20.742233Z",
     "iopub.status.idle": "2024-06-26T19:14:21.559862Z",
     "shell.execute_reply": "2024-06-26T19:14:21.558994Z",
     "shell.execute_reply.started": "2024-06-26T19:14:20.742513Z"
    },
    "trusted": true
   },
   "outputs": [
    {
     "data": {
      "text/html": [
       "<div>\n",
       "<style scoped>\n",
       "    .dataframe tbody tr th:only-of-type {\n",
       "        vertical-align: middle;\n",
       "    }\n",
       "\n",
       "    .dataframe tbody tr th {\n",
       "        vertical-align: top;\n",
       "    }\n",
       "\n",
       "    .dataframe thead th {\n",
       "        text-align: right;\n",
       "    }\n",
       "</style>\n",
       "<table border=\"1\" class=\"dataframe\">\n",
       "  <thead>\n",
       "    <tr style=\"text-align: right;\">\n",
       "      <th></th>\n",
       "      <th>id</th>\n",
       "      <th>comment_text</th>\n",
       "    </tr>\n",
       "  </thead>\n",
       "  <tbody>\n",
       "    <tr>\n",
       "      <th>0</th>\n",
       "      <td>00001cee341fdb12</td>\n",
       "      <td>Yo bitch Ja Rule is more succesful then you'll...</td>\n",
       "    </tr>\n",
       "    <tr>\n",
       "      <th>1</th>\n",
       "      <td>0000247867823ef7</td>\n",
       "      <td>== From RfC == \\n\\n The title is fine as it is...</td>\n",
       "    </tr>\n",
       "    <tr>\n",
       "      <th>2</th>\n",
       "      <td>00013b17ad220c46</td>\n",
       "      <td>\" \\n\\n == Sources == \\n\\n * Zawe Ashton on Lap...</td>\n",
       "    </tr>\n",
       "    <tr>\n",
       "      <th>3</th>\n",
       "      <td>00017563c3f7919a</td>\n",
       "      <td>:If you have a look back at the source, the in...</td>\n",
       "    </tr>\n",
       "    <tr>\n",
       "      <th>4</th>\n",
       "      <td>00017695ad8997eb</td>\n",
       "      <td>I don't anonymously edit articles at all.</td>\n",
       "    </tr>\n",
       "  </tbody>\n",
       "</table>\n",
       "</div>"
      ],
      "text/plain": [
       "                 id                                       comment_text\n",
       "0  00001cee341fdb12  Yo bitch Ja Rule is more succesful then you'll...\n",
       "1  0000247867823ef7  == From RfC == \\n\\n The title is fine as it is...\n",
       "2  00013b17ad220c46  \" \\n\\n == Sources == \\n\\n * Zawe Ashton on Lap...\n",
       "3  00017563c3f7919a  :If you have a look back at the source, the in...\n",
       "4  00017695ad8997eb          I don't anonymously edit articles at all."
      ]
     },
     "execution_count": 8,
     "metadata": {},
     "output_type": "execute_result"
    }
   ],
   "source": [
    "data_test = pd.read_csv('/kaggle/working/data/test.csv')\n",
    "data_test.head()"
   ]
  },
  {
   "cell_type": "code",
   "execution_count": 9,
   "metadata": {
    "execution": {
     "iopub.execute_input": "2024-06-26T19:14:21.561144Z",
     "iopub.status.busy": "2024-06-26T19:14:21.560892Z",
     "iopub.status.idle": "2024-06-26T19:14:26.640657Z",
     "shell.execute_reply": "2024-06-26T19:14:26.639687Z",
     "shell.execute_reply.started": "2024-06-26T19:14:21.561122Z"
    },
    "trusted": true
   },
   "outputs": [],
   "source": [
    "# lowercase and remove extraspace\n",
    "data_train[\"comment_text\"] = data_train[\"comment_text\"].str.lower()\n",
    "data_train[\"comment_text\"] = data_train[\"comment_text\"].str.replace(\"\\xa0\", \" \", regex=False).str.split().str.join(\" \")\n",
    "data_test[\"comment_text\"] = data_test[\"comment_text\"].str.lower()\n",
    "data_test[\"comment_text\"] = data_test[\"comment_text\"].str.replace(\"\\xa0\", \" \", regex=False).str.split().str.join(\" \")"
   ]
  },
  {
   "cell_type": "code",
   "execution_count": 10,
   "metadata": {
    "execution": {
     "iopub.execute_input": "2024-06-26T19:14:26.645707Z",
     "iopub.status.busy": "2024-06-26T19:14:26.645377Z",
     "iopub.status.idle": "2024-06-26T19:14:26.651747Z",
     "shell.execute_reply": "2024-06-26T19:14:26.650851Z",
     "shell.execute_reply.started": "2024-06-26T19:14:26.645681Z"
    },
    "trusted": true
   },
   "outputs": [
    {
     "data": {
      "text/plain": [
       "\"d'aww! he matches this background colour i'm seemingly stuck with. thanks. (talk) 21:51, january 11, 2016 (utc)\""
      ]
     },
     "execution_count": 10,
     "metadata": {},
     "output_type": "execute_result"
    }
   ],
   "source": [
    "data_train['comment_text'][1]"
   ]
  },
  {
   "cell_type": "code",
   "execution_count": 11,
   "metadata": {
    "execution": {
     "iopub.execute_input": "2024-06-26T19:14:26.653668Z",
     "iopub.status.busy": "2024-06-26T19:14:26.652938Z",
     "iopub.status.idle": "2024-06-26T19:14:26.664666Z",
     "shell.execute_reply": "2024-06-26T19:14:26.663695Z",
     "shell.execute_reply.started": "2024-06-26T19:14:26.653636Z"
    },
    "trusted": true
   },
   "outputs": [],
   "source": [
    "x_train=data_train['comment_text']\n",
    "x_test=data_test['comment_text']"
   ]
  },
  {
   "cell_type": "code",
   "execution_count": 12,
   "metadata": {
    "execution": {
     "iopub.execute_input": "2024-06-26T19:14:26.891475Z",
     "iopub.status.busy": "2024-06-26T19:14:26.665909Z",
     "iopub.status.idle": "2024-06-26T19:14:27.056557Z",
     "shell.execute_reply": "2024-06-26T19:14:27.055557Z",
     "shell.execute_reply.started": "2024-06-26T19:14:26.891432Z"
    },
    "trusted": true
   },
   "outputs": [
    {
     "data": {
      "text/html": [
       "<div>\n",
       "<style scoped>\n",
       "    .dataframe tbody tr th:only-of-type {\n",
       "        vertical-align: middle;\n",
       "    }\n",
       "\n",
       "    .dataframe tbody tr th {\n",
       "        vertical-align: top;\n",
       "    }\n",
       "\n",
       "    .dataframe thead th {\n",
       "        text-align: right;\n",
       "    }\n",
       "</style>\n",
       "<table border=\"1\" class=\"dataframe\">\n",
       "  <thead>\n",
       "    <tr style=\"text-align: right;\">\n",
       "      <th></th>\n",
       "      <th>id</th>\n",
       "      <th>toxic</th>\n",
       "      <th>severe_toxic</th>\n",
       "      <th>obscene</th>\n",
       "      <th>threat</th>\n",
       "      <th>insult</th>\n",
       "      <th>identity_hate</th>\n",
       "    </tr>\n",
       "  </thead>\n",
       "  <tbody>\n",
       "    <tr>\n",
       "      <th>0</th>\n",
       "      <td>00001cee341fdb12</td>\n",
       "      <td>-1</td>\n",
       "      <td>-1</td>\n",
       "      <td>-1</td>\n",
       "      <td>-1</td>\n",
       "      <td>-1</td>\n",
       "      <td>-1</td>\n",
       "    </tr>\n",
       "    <tr>\n",
       "      <th>1</th>\n",
       "      <td>0000247867823ef7</td>\n",
       "      <td>-1</td>\n",
       "      <td>-1</td>\n",
       "      <td>-1</td>\n",
       "      <td>-1</td>\n",
       "      <td>-1</td>\n",
       "      <td>-1</td>\n",
       "    </tr>\n",
       "    <tr>\n",
       "      <th>2</th>\n",
       "      <td>00013b17ad220c46</td>\n",
       "      <td>-1</td>\n",
       "      <td>-1</td>\n",
       "      <td>-1</td>\n",
       "      <td>-1</td>\n",
       "      <td>-1</td>\n",
       "      <td>-1</td>\n",
       "    </tr>\n",
       "    <tr>\n",
       "      <th>3</th>\n",
       "      <td>00017563c3f7919a</td>\n",
       "      <td>-1</td>\n",
       "      <td>-1</td>\n",
       "      <td>-1</td>\n",
       "      <td>-1</td>\n",
       "      <td>-1</td>\n",
       "      <td>-1</td>\n",
       "    </tr>\n",
       "    <tr>\n",
       "      <th>4</th>\n",
       "      <td>00017695ad8997eb</td>\n",
       "      <td>-1</td>\n",
       "      <td>-1</td>\n",
       "      <td>-1</td>\n",
       "      <td>-1</td>\n",
       "      <td>-1</td>\n",
       "      <td>-1</td>\n",
       "    </tr>\n",
       "    <tr>\n",
       "      <th>...</th>\n",
       "      <td>...</td>\n",
       "      <td>...</td>\n",
       "      <td>...</td>\n",
       "      <td>...</td>\n",
       "      <td>...</td>\n",
       "      <td>...</td>\n",
       "      <td>...</td>\n",
       "    </tr>\n",
       "    <tr>\n",
       "      <th>153159</th>\n",
       "      <td>fffcd0960ee309b5</td>\n",
       "      <td>-1</td>\n",
       "      <td>-1</td>\n",
       "      <td>-1</td>\n",
       "      <td>-1</td>\n",
       "      <td>-1</td>\n",
       "      <td>-1</td>\n",
       "    </tr>\n",
       "    <tr>\n",
       "      <th>153160</th>\n",
       "      <td>fffd7a9a6eb32c16</td>\n",
       "      <td>-1</td>\n",
       "      <td>-1</td>\n",
       "      <td>-1</td>\n",
       "      <td>-1</td>\n",
       "      <td>-1</td>\n",
       "      <td>-1</td>\n",
       "    </tr>\n",
       "    <tr>\n",
       "      <th>153161</th>\n",
       "      <td>fffda9e8d6fafa9e</td>\n",
       "      <td>-1</td>\n",
       "      <td>-1</td>\n",
       "      <td>-1</td>\n",
       "      <td>-1</td>\n",
       "      <td>-1</td>\n",
       "      <td>-1</td>\n",
       "    </tr>\n",
       "    <tr>\n",
       "      <th>153162</th>\n",
       "      <td>fffe8f1340a79fc2</td>\n",
       "      <td>-1</td>\n",
       "      <td>-1</td>\n",
       "      <td>-1</td>\n",
       "      <td>-1</td>\n",
       "      <td>-1</td>\n",
       "      <td>-1</td>\n",
       "    </tr>\n",
       "    <tr>\n",
       "      <th>153163</th>\n",
       "      <td>ffffce3fb183ee80</td>\n",
       "      <td>-1</td>\n",
       "      <td>-1</td>\n",
       "      <td>-1</td>\n",
       "      <td>-1</td>\n",
       "      <td>-1</td>\n",
       "      <td>-1</td>\n",
       "    </tr>\n",
       "  </tbody>\n",
       "</table>\n",
       "<p>153164 rows × 7 columns</p>\n",
       "</div>"
      ],
      "text/plain": [
       "                      id  toxic  severe_toxic  obscene  threat  insult  \\\n",
       "0       00001cee341fdb12     -1            -1       -1      -1      -1   \n",
       "1       0000247867823ef7     -1            -1       -1      -1      -1   \n",
       "2       00013b17ad220c46     -1            -1       -1      -1      -1   \n",
       "3       00017563c3f7919a     -1            -1       -1      -1      -1   \n",
       "4       00017695ad8997eb     -1            -1       -1      -1      -1   \n",
       "...                  ...    ...           ...      ...     ...     ...   \n",
       "153159  fffcd0960ee309b5     -1            -1       -1      -1      -1   \n",
       "153160  fffd7a9a6eb32c16     -1            -1       -1      -1      -1   \n",
       "153161  fffda9e8d6fafa9e     -1            -1       -1      -1      -1   \n",
       "153162  fffe8f1340a79fc2     -1            -1       -1      -1      -1   \n",
       "153163  ffffce3fb183ee80     -1            -1       -1      -1      -1   \n",
       "\n",
       "        identity_hate  \n",
       "0                  -1  \n",
       "1                  -1  \n",
       "2                  -1  \n",
       "3                  -1  \n",
       "4                  -1  \n",
       "...               ...  \n",
       "153159             -1  \n",
       "153160             -1  \n",
       "153161             -1  \n",
       "153162             -1  \n",
       "153163             -1  \n",
       "\n",
       "[153164 rows x 7 columns]"
      ]
     },
     "execution_count": 12,
     "metadata": {},
     "output_type": "execute_result"
    }
   ],
   "source": [
    "label_test=pd.read_csv('/kaggle/working/data/test_labels.csv')\n",
    "label_test"
   ]
  },
  {
   "cell_type": "code",
   "execution_count": 13,
   "metadata": {
    "execution": {
     "iopub.execute_input": "2024-06-26T19:14:27.058120Z",
     "iopub.status.busy": "2024-06-26T19:14:27.057806Z",
     "iopub.status.idle": "2024-06-26T19:14:27.070857Z",
     "shell.execute_reply": "2024-06-26T19:14:27.069977Z",
     "shell.execute_reply.started": "2024-06-26T19:14:27.058093Z"
    },
    "trusted": true
   },
   "outputs": [
    {
     "data": {
      "text/plain": [
       "array([[-1, -1, -1, -1, -1, -1],\n",
       "       [-1, -1, -1, -1, -1, -1],\n",
       "       [-1, -1, -1, -1, -1, -1],\n",
       "       ...,\n",
       "       [-1, -1, -1, -1, -1, -1],\n",
       "       [-1, -1, -1, -1, -1, -1],\n",
       "       [-1, -1, -1, -1, -1, -1]])"
      ]
     },
     "execution_count": 13,
     "metadata": {},
     "output_type": "execute_result"
    }
   ],
   "source": [
    "y_test = label_test[list_classes].values\n",
    "y_test"
   ]
  },
  {
   "cell_type": "code",
   "execution_count": 14,
   "metadata": {
    "execution": {
     "iopub.execute_input": "2024-06-26T19:14:27.072342Z",
     "iopub.status.busy": "2024-06-26T19:14:27.072057Z",
     "iopub.status.idle": "2024-06-26T19:14:27.079100Z",
     "shell.execute_reply": "2024-06-26T19:14:27.078100Z",
     "shell.execute_reply.started": "2024-06-26T19:14:27.072318Z"
    },
    "trusted": true
   },
   "outputs": [
    {
     "data": {
      "text/plain": [
       "array([[0, 0, 0, 0, 0, 0],\n",
       "       [0, 0, 0, 0, 0, 0],\n",
       "       [0, 0, 0, 0, 0, 0],\n",
       "       ...,\n",
       "       [0, 0, 0, 0, 0, 0],\n",
       "       [0, 0, 0, 0, 0, 0],\n",
       "       [0, 0, 0, 0, 0, 0]])"
      ]
     },
     "execution_count": 14,
     "metadata": {},
     "output_type": "execute_result"
    }
   ],
   "source": [
    "y_train"
   ]
  },
  {
   "cell_type": "code",
   "execution_count": 15,
   "metadata": {
    "execution": {
     "iopub.execute_input": "2024-06-26T19:14:27.080756Z",
     "iopub.status.busy": "2024-06-26T19:14:27.080441Z",
     "iopub.status.idle": "2024-06-26T19:14:27.086470Z",
     "shell.execute_reply": "2024-06-26T19:14:27.085280Z",
     "shell.execute_reply.started": "2024-06-26T19:14:27.080727Z"
    },
    "trusted": true
   },
   "outputs": [],
   "source": [
    "# Remove common English stop words\n",
    "def clean(text):\n",
    "  stop_words = set(stopwords.words('english'))\n",
    "  tokens = [word for word in text.split() if word not in stop_words]\n",
    "  text = ' '.join(tokens)\n",
    "  return text"
   ]
  },
  {
   "cell_type": "code",
   "execution_count": 16,
   "metadata": {
    "execution": {
     "iopub.execute_input": "2024-06-26T19:14:27.088011Z",
     "iopub.status.busy": "2024-06-26T19:14:27.087723Z",
     "iopub.status.idle": "2024-06-26T19:15:12.189510Z",
     "shell.execute_reply": "2024-06-26T19:15:12.188750Z",
     "shell.execute_reply.started": "2024-06-26T19:14:27.087985Z"
    },
    "trusted": true
   },
   "outputs": [],
   "source": [
    "x_train_cleaned = x_train.apply(clean)\n",
    "x_test_cleaned = x_test.apply(clean)"
   ]
  },
  {
   "cell_type": "code",
   "execution_count": 17,
   "metadata": {
    "execution": {
     "iopub.execute_input": "2024-06-26T19:15:12.191065Z",
     "iopub.status.busy": "2024-06-26T19:15:12.190730Z",
     "iopub.status.idle": "2024-06-26T19:15:31.661787Z",
     "shell.execute_reply": "2024-06-26T19:15:31.660970Z",
     "shell.execute_reply.started": "2024-06-26T19:15:12.191034Z"
    },
    "trusted": true
   },
   "outputs": [],
   "source": [
    "# Tokenize the text data\n",
    "tokenizer = Tokenizer()\n",
    "tokenizer.fit_on_texts(x_train_cleaned)\n",
    "X_train_sequences = tokenizer.texts_to_sequences(x_train_cleaned)\n",
    "X_test_sequences = tokenizer.texts_to_sequences(x_test_cleaned)"
   ]
  },
  {
   "cell_type": "code",
   "execution_count": 18,
   "metadata": {
    "execution": {
     "iopub.execute_input": "2024-06-26T19:15:31.663318Z",
     "iopub.status.busy": "2024-06-26T19:15:31.663050Z",
     "iopub.status.idle": "2024-06-26T19:15:31.668365Z",
     "shell.execute_reply": "2024-06-26T19:15:31.667501Z",
     "shell.execute_reply.started": "2024-06-26T19:15:31.663283Z"
    },
    "trusted": true
   },
   "outputs": [
    {
     "name": "stdout",
     "output_type": "stream",
     "text": [
      "209627\n"
     ]
    }
   ],
   "source": [
    "word_index = tokenizer.word_index\n",
    "total_words = len(word_index)\n",
    "print(total_words) #same as length of vocabulary"
   ]
  },
  {
   "cell_type": "code",
   "execution_count": 19,
   "metadata": {
    "execution": {
     "iopub.execute_input": "2024-06-26T19:15:31.670205Z",
     "iopub.status.busy": "2024-06-26T19:15:31.669668Z",
     "iopub.status.idle": "2024-06-26T19:15:31.679297Z",
     "shell.execute_reply": "2024-06-26T19:15:31.678463Z",
     "shell.execute_reply.started": "2024-06-26T19:15:31.670151Z"
    },
    "trusted": true
   },
   "outputs": [],
   "source": [
    "emb_len=len(tokenizer.index_word)+1"
   ]
  },
  {
   "cell_type": "code",
   "execution_count": 20,
   "metadata": {
    "execution": {
     "iopub.execute_input": "2024-06-26T19:15:31.681085Z",
     "iopub.status.busy": "2024-06-26T19:15:31.680431Z",
     "iopub.status.idle": "2024-06-26T19:15:31.707660Z",
     "shell.execute_reply": "2024-06-26T19:15:31.706831Z",
     "shell.execute_reply.started": "2024-06-26T19:15:31.681052Z"
    },
    "trusted": true
   },
   "outputs": [
    {
     "name": "stdout",
     "output_type": "stream",
     "text": [
      "1349\n"
     ]
    }
   ],
   "source": [
    "#getting the length of the maximum sequence in the dataset\n",
    "max_length = max([len(w) for w in X_train_sequences])\n",
    "print(max_length)"
   ]
  },
  {
   "cell_type": "code",
   "execution_count": 21,
   "metadata": {
    "execution": {
     "iopub.execute_input": "2024-06-26T19:15:31.708907Z",
     "iopub.status.busy": "2024-06-26T19:15:31.708666Z",
     "iopub.status.idle": "2024-06-26T19:15:33.469312Z",
     "shell.execute_reply": "2024-06-26T19:15:33.468339Z",
     "shell.execute_reply.started": "2024-06-26T19:15:31.708886Z"
    },
    "trusted": true
   },
   "outputs": [],
   "source": [
    "# Padding the sequences\n",
    "X_train_padded = pad_sequences(X_train_sequences, maxlen=100, padding='post', truncating='post')\n",
    "X_test_padded = pad_sequences(X_test_sequences, maxlen=100, padding='post', truncating='post')"
   ]
  },
  {
   "cell_type": "code",
   "execution_count": 22,
   "metadata": {
    "execution": {
     "iopub.execute_input": "2024-06-26T19:15:33.470871Z",
     "iopub.status.busy": "2024-06-26T19:15:33.470580Z",
     "iopub.status.idle": "2024-06-26T19:15:34.739529Z",
     "shell.execute_reply": "2024-06-26T19:15:34.738612Z",
     "shell.execute_reply.started": "2024-06-26T19:15:33.470847Z"
    },
    "trusted": true
   },
   "outputs": [],
   "source": [
    "# Input layer\n",
    "input_layer = Input(shape=(100,))  # Specify max_len as the maximum sequence length\n",
    "\n",
    "# Embedding layer\n",
    "embedding_layer = Embedding(emb_len, 128)(input_layer)\n",
    "\n",
    "# Bidirectional LSTM layer replaced with Attention layer\n",
    "lstm_layer = Bidirectional(LSTM(128, return_sequences=True, dropout=0.2, recurrent_dropout=0.3))(embedding_layer)\n",
    "attention = Attention()([lstm_layer, lstm_layer])  # Attention layer\n",
    "\n",
    "# 1D Convolutional layer\n",
    "conv1d_layer = Conv1D(64, kernel_size=3, activation='relu')(attention)\n",
    "\n",
    "# GlobalMaxPooling1D layer\n",
    "global_max_pooling_layer = GlobalMaxPooling1D()(conv1d_layer)\n",
    "\n",
    "# Dense layers\n",
    "dense_layer_1 = Dense(128, activation='relu')(global_max_pooling_layer)\n",
    "output_layer = Dense(6, activation='sigmoid')(dense_layer_1)\n",
    "\n",
    "# Model creation\n",
    "model = Model(inputs=input_layer, outputs=output_layer)"
   ]
  },
  {
   "cell_type": "code",
   "execution_count": 23,
   "metadata": {
    "execution": {
     "iopub.execute_input": "2024-06-26T19:15:34.741130Z",
     "iopub.status.busy": "2024-06-26T19:15:34.740791Z",
     "iopub.status.idle": "2024-06-26T19:15:34.769969Z",
     "shell.execute_reply": "2024-06-26T19:15:34.769167Z",
     "shell.execute_reply.started": "2024-06-26T19:15:34.741099Z"
    },
    "trusted": true
   },
   "outputs": [
    {
     "name": "stdout",
     "output_type": "stream",
     "text": [
      "Model: \"model\"\n",
      "__________________________________________________________________________________________________\n",
      " Layer (type)                Output Shape                 Param #   Connected to                  \n",
      "==================================================================================================\n",
      " input_1 (InputLayer)        [(None, 100)]                0         []                            \n",
      "                                                                                                  \n",
      " embedding (Embedding)       (None, 100, 128)             2683238   ['input_1[0][0]']             \n",
      "                                                          4                                       \n",
      "                                                                                                  \n",
      " bidirectional (Bidirection  (None, 100, 256)             263168    ['embedding[0][0]']           \n",
      " al)                                                                                              \n",
      "                                                                                                  \n",
      " attention (Attention)       (None, 100, 256)             0         ['bidirectional[0][0]',       \n",
      "                                                                     'bidirectional[0][0]']       \n",
      "                                                                                                  \n",
      " conv1d (Conv1D)             (None, 98, 64)               49216     ['attention[0][0]']           \n",
      "                                                                                                  \n",
      " global_max_pooling1d (Glob  (None, 64)                   0         ['conv1d[0][0]']              \n",
      " alMaxPooling1D)                                                                                  \n",
      "                                                                                                  \n",
      " dense (Dense)               (None, 128)                  8320      ['global_max_pooling1d[0][0]']\n",
      "                                                                                                  \n",
      " dense_1 (Dense)             (None, 6)                    774       ['dense[0][0]']               \n",
      "                                                                                                  \n",
      "==================================================================================================\n",
      "Total params: 27153862 (103.58 MB)\n",
      "Trainable params: 27153862 (103.58 MB)\n",
      "Non-trainable params: 0 (0.00 Byte)\n",
      "__________________________________________________________________________________________________\n"
     ]
    }
   ],
   "source": [
    "model.summary()"
   ]
  },
  {
   "cell_type": "code",
   "execution_count": 24,
   "metadata": {
    "execution": {
     "iopub.execute_input": "2024-06-26T19:15:34.771499Z",
     "iopub.status.busy": "2024-06-26T19:15:34.771175Z",
     "iopub.status.idle": "2024-06-26T19:15:34.787573Z",
     "shell.execute_reply": "2024-06-26T19:15:34.786704Z",
     "shell.execute_reply.started": "2024-06-26T19:15:34.771468Z"
    },
    "trusted": true
   },
   "outputs": [],
   "source": [
    "model.compile(optimizer='adam',loss='binary_crossentropy',metrics=['accuracy'])"
   ]
  },
  {
   "cell_type": "code",
   "execution_count": 25,
   "metadata": {
    "execution": {
     "iopub.execute_input": "2024-06-26T19:15:34.788746Z",
     "iopub.status.busy": "2024-06-26T19:15:34.788486Z",
     "iopub.status.idle": "2024-06-26T19:15:34.890478Z",
     "shell.execute_reply": "2024-06-26T19:15:34.889674Z",
     "shell.execute_reply.started": "2024-06-26T19:15:34.788725Z"
    },
    "trusted": true
   },
   "outputs": [],
   "source": [
    "checkpoint_path = 'training/best_model.ckpt'\n",
    "checkpoint_dir = os.path.dirname(checkpoint_path)\n",
    "model_checkpoint_callback = tf.keras.callbacks.ModelCheckpoint(\n",
    "    filepath=checkpoint_path,\n",
    "    monitor='val_accuracy',\n",
    "    mode='max',\n",
    "    save_best_only=True)"
   ]
  },
  {
   "cell_type": "code",
   "execution_count": 26,
   "metadata": {
    "execution": {
     "iopub.execute_input": "2024-06-26T19:15:34.892465Z",
     "iopub.status.busy": "2024-06-26T19:15:34.891681Z",
     "iopub.status.idle": "2024-06-26T19:15:34.896223Z",
     "shell.execute_reply": "2024-06-26T19:15:34.895393Z",
     "shell.execute_reply.started": "2024-06-26T19:15:34.892440Z"
    },
    "trusted": true
   },
   "outputs": [],
   "source": [
    "from keras.callbacks import EarlyStopping\n",
    "early_stop = EarlyStopping(monitor='val_loss',patience=3,verbose=True)"
   ]
  },
  {
   "cell_type": "code",
   "execution_count": 27,
   "metadata": {
    "execution": {
     "iopub.execute_input": "2024-06-26T19:15:34.898395Z",
     "iopub.status.busy": "2024-06-26T19:15:34.897694Z",
     "iopub.status.idle": "2024-06-26T19:41:02.237773Z",
     "shell.execute_reply": "2024-06-26T19:41:02.236724Z",
     "shell.execute_reply.started": "2024-06-26T19:15:34.898362Z"
    },
    "trusted": true
   },
   "outputs": [
    {
     "name": "stdout",
     "output_type": "stream",
     "text": [
      "Epoch 1/2\n",
      "1122/1122 [==============================] - 784s 691ms/step - loss: 0.0780 - accuracy: 0.9790 - val_loss: 0.0527 - val_accuracy: 0.9940\n",
      "Epoch 2/2\n",
      "1122/1122 [==============================] - 688s 613ms/step - loss: 0.0439 - accuracy: 0.9941 - val_loss: 0.0504 - val_accuracy: 0.9939\n"
     ]
    }
   ],
   "source": [
    "#Trainig the model\n",
    "history = model.fit(X_train_padded,y_train,batch_size=128,epochs=2,validation_split=0.1,callbacks=[model_checkpoint_callback,early_stop])"
   ]
  },
  {
   "cell_type": "code",
   "execution_count": 28,
   "metadata": {
    "execution": {
     "iopub.execute_input": "2024-06-26T19:41:02.243030Z",
     "iopub.status.busy": "2024-06-26T19:41:02.242731Z",
     "iopub.status.idle": "2024-06-26T19:41:02.569602Z",
     "shell.execute_reply": "2024-06-26T19:41:02.568730Z",
     "shell.execute_reply.started": "2024-06-26T19:41:02.243005Z"
    },
    "trusted": true
   },
   "outputs": [
    {
     "data": {
      "text/plain": [
       "<tensorflow.python.checkpoint.checkpoint.CheckpointLoadStatus at 0x7d1657a52710>"
      ]
     },
     "execution_count": 28,
     "metadata": {},
     "output_type": "execute_result"
    }
   ],
   "source": [
    "#Load best model\n",
    "model.load_weights(checkpoint_path)"
   ]
  },
  {
   "cell_type": "code",
   "execution_count": 29,
   "metadata": {
    "execution": {
     "iopub.execute_input": "2024-06-26T19:41:02.571112Z",
     "iopub.status.busy": "2024-06-26T19:41:02.570761Z",
     "iopub.status.idle": "2024-06-26T19:44:28.050016Z",
     "shell.execute_reply": "2024-06-26T19:44:28.049147Z",
     "shell.execute_reply.started": "2024-06-26T19:41:02.571079Z"
    },
    "trusted": true
   },
   "outputs": [
    {
     "name": "stdout",
     "output_type": "stream",
     "text": [
      "4787/4787 [==============================] - 205s 43ms/step - loss: -3.0240 - accuracy: 0.9990\n",
      "Validation Loss: -3.023993968963623, Validation Accuracy: 0.9990010857582092\n"
     ]
    }
   ],
   "source": [
    "## Evaluate Model\n",
    "loss, accuracy = model.evaluate(X_test_padded, y_test)\n",
    "print(f'Validation Loss: {loss}, Validation Accuracy: {accuracy}')"
   ]
  },
  {
   "cell_type": "code",
   "execution_count": 30,
   "metadata": {
    "execution": {
     "iopub.execute_input": "2024-06-26T19:44:28.051757Z",
     "iopub.status.busy": "2024-06-26T19:44:28.051279Z",
     "iopub.status.idle": "2024-06-26T19:47:59.248176Z",
     "shell.execute_reply": "2024-06-26T19:47:59.247384Z",
     "shell.execute_reply.started": "2024-06-26T19:44:28.051721Z"
    },
    "trusted": true
   },
   "outputs": [
    {
     "name": "stdout",
     "output_type": "stream",
     "text": [
      "4787/4787 [==============================] - 207s 43ms/step\n",
      "[[9.9063981e-01 2.4015230e-01 9.7099167e-01 4.8455864e-02 8.7223995e-01\n",
      "  1.8606140e-01]\n",
      " [5.0829640e-03 5.9776037e-05 4.5909843e-04 1.9875287e-04 7.3759473e-04\n",
      "  3.4684132e-04]\n",
      " [8.9367470e-03 8.3769191e-05 7.2255393e-04 2.8125857e-04 1.2932331e-03\n",
      "  5.0887169e-04]\n",
      " ...\n",
      " [2.2157445e-03 1.4479404e-05 1.5598445e-04 5.5980719e-05 2.7483774e-04\n",
      "  1.1977662e-04]\n",
      " [3.4788586e-03 2.3955379e-05 2.6904375e-04 8.7191394e-05 4.5860809e-04\n",
      "  1.7369694e-04]\n",
      " [9.6582627e-01 5.7821453e-02 9.1258973e-01 1.8784752e-02 6.1142164e-01\n",
      "  7.9368077e-02]]\n"
     ]
    }
   ],
   "source": [
    "# Predictions\n",
    "predictions = model.predict(X_test_padded)\n",
    "print(predictions)\n",
    "\n",
    "predictions = pd.DataFrame(predictions)\n",
    "output = pd.DataFrame(data={'id': data_test['id'],'toxic': predictions[0], 'severe_toxic': predictions[1],\n",
    "                           'obscene': predictions[2], 'threat': predictions[3], 'insult': predictions[4],\n",
    "                           'identity_hate': predictions[5]})\n",
    "output.to_csv('submission.csv', index=False)"
   ]
  },
  {
   "cell_type": "code",
   "execution_count": null,
   "metadata": {
    "execution": {
     "iopub.execute_input": "2024-06-26T22:03:52.325137Z",
     "iopub.status.busy": "2024-06-26T22:03:52.324764Z",
     "iopub.status.idle": "2024-06-26T22:03:52.675835Z",
     "shell.execute_reply": "2024-06-26T22:03:52.674713Z",
     "shell.execute_reply.started": "2024-06-26T22:03:52.325112Z"
    },
    "trusted": true
   },
   "outputs": [],
   "source": [
    "\n",
    "# def clean_text(text):\n",
    "\n",
    "#   # Implement your cleaning logic here\n",
    "#   cleaned_text = text.lower()  # Convert to lowercase for this example\n",
    "#   return cleaned_text\n",
    "\n",
    "# def classify_comment(comment):\n",
    "#   comment = clean_text(comment)\n",
    "#   # ... rest of your classification logic ...\n",
    "# # Function to classify a single comment\n",
    "# def classify_comment(comment):\n",
    "#     comment = clean_text(comment)\n",
    "#     sequence = tokenizer.texts_to_sequences([comment])\n",
    "#     padded_sequence = pad_sequences(sequence, maxlen=100, padding='post', truncating='post')\n",
    "#     prediction = model.predict(padded_sequence)\n",
    "#     result = {list_classes[i]: prediction[0][i] for i in range(len(list_classes))}\n",
    "#     return result\n",
    "\n",
    "# # Example usage\n",
    "# new_comment = \"You fuckinng asshole\"\n",
    "# classification = classify_comment(new_comment)\n",
    "# print(classification)"
   ]
  }
 ],
 "metadata": {
  "kaggle": {
   "accelerator": "gpu",
   "dataSources": [
    {
     "databundleVersionId": 44219,
     "sourceId": 8076,
     "sourceType": "competition"
    }
   ],
   "dockerImageVersionId": 30636,
   "isGpuEnabled": true,
   "isInternetEnabled": true,
   "language": "python",
   "sourceType": "notebook"
  },
  "kernelspec": {
   "display_name": "Python 3",
   "language": "python",
   "name": "python3"
  },
  "language_info": {
   "codemirror_mode": {
    "name": "ipython",
    "version": 3
   },
   "file_extension": ".py",
   "mimetype": "text/x-python",
   "name": "python",
   "nbconvert_exporter": "python",
   "pygments_lexer": "ipython3",
   "version": "3.10.12"
  }
 },
 "nbformat": 4,
 "nbformat_minor": 4
}
